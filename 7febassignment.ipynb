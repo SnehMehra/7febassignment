{
 "cells": [
  {
   "cell_type": "code",
   "execution_count": 1,
   "id": "dfbbf84e-fc03-4b11-83b7-3d847cca0ceb",
   "metadata": {},
   "outputs": [],
   "source": [
    "#Q.1\n",
    "def check_password(p):\n",
    "    if len(p)!=10:\n",
    "        return \"invalid password\"\n",
    "    upper_count=0\n",
    "    lower_count=0\n",
    "    for char in p:\n",
    "        if char.isupper():\n",
    "            upper_count+=1\n",
    "        elif char.islower():\n",
    "            lower_count+=1\n",
    "    if upper_count<2 or lower_count<2:\n",
    "        return \"invalid password\"\n",
    "    num_count=0\n",
    "    spec_count=0\n",
    "    for char in p:\n",
    "        if char.isdigit():\n",
    "            num_count+=1\n",
    "        elif not char.isalnum():\n",
    "            spec_count+=1\n",
    "    if num_count==0 or spec_count<3:\n",
    "        return \"invalid password\"\n",
    "    \n",
    "    return \"valid password\""
   ]
  },
  {
   "cell_type": "code",
   "execution_count": 2,
   "id": "14fc7649-cda0-4b1e-801d-2caaf7a7a793",
   "metadata": {},
   "outputs": [
    {
     "name": "stdin",
     "output_type": "stream",
     "text": [
      "Enter password:  12323%^$^&!2\n"
     ]
    },
    {
     "name": "stdout",
     "output_type": "stream",
     "text": [
      "invalid password\n"
     ]
    }
   ],
   "source": [
    "p= input(\"Enter password: \")\n",
    "result = check_password(p)\n",
    "print(result)"
   ]
  },
  {
   "cell_type": "raw",
   "id": "6351c31e-ff26-467a-b0ee-687c63872886",
   "metadata": {},
   "source": [
    "Q.2"
   ]
  },
  {
   "cell_type": "raw",
   "id": "42d56338-cf8b-45ee-b150-a80fa234cc54",
   "metadata": {},
   "source": [
    "Check if the string starts with a particular letter"
   ]
  },
  {
   "cell_type": "code",
   "execution_count": 3,
   "id": "cf4a3478-4614-4122-860f-5400bfa6434a",
   "metadata": {},
   "outputs": [
    {
     "name": "stdout",
     "output_type": "stream",
     "text": [
      "True\n",
      "False\n"
     ]
    }
   ],
   "source": [
    "\n",
    "startsWith = lambda string, letter: string.startswith(letter)\n",
    "print(startsWith(\"apple\", \"a\")) \n",
    "print(startsWith(\"banana\", \"a\")) \n"
   ]
  },
  {
   "cell_type": "code",
   "execution_count": 4,
   "id": "bd572ee9-abe6-402a-b3df-8eb6e64b6b54",
   "metadata": {},
   "outputs": [
    {
     "name": "stdout",
     "output_type": "stream",
     "text": [
      "['apple']\n"
     ]
    }
   ],
   "source": [
    "fruits = [\"apple\", \"banana\", \"cherry\", \"grape\"]\n",
    "starts_with_a = [fruit for fruit in fruits if fruit.startswith(\"a\")]\n",
    "print(starts_with_a) \n"
   ]
  },
  {
   "cell_type": "raw",
   "id": "5c45fa82-0e5d-4bfc-91b1-ee4011d5d050",
   "metadata": {},
   "source": [
    "Check if the string is numeric"
   ]
  },
  {
   "cell_type": "code",
   "execution_count": 6,
   "id": "43b58679-2bf1-420c-bdab-1b51da7e7d33",
   "metadata": {},
   "outputs": [
    {
     "name": "stdout",
     "output_type": "stream",
     "text": [
      "True\n",
      "False\n"
     ]
    }
   ],
   "source": [
    "isNumeric = lambda string: string.isnumeric()\n",
    "print(isNumeric(\"123\")) \n",
    "print(isNumeric(\"12.3\"))\n"
   ]
  },
  {
   "cell_type": "code",
   "execution_count": 5,
   "id": "d1bfcb76-5ce0-4194-a5d2-855be4f35f96",
   "metadata": {},
   "outputs": [
    {
     "name": "stdout",
     "output_type": "stream",
     "text": [
      "['123', '456']\n"
     ]
    }
   ],
   "source": [
    "strings = [\"123\", \"456\", \"12.3\", \"4.5.6\"]\n",
    "numeric_strings = [string for string in strings if string.isnumeric()]\n",
    "print(numeric_strings) \n"
   ]
  },
  {
   "cell_type": "raw",
   "id": "2523d980-72a5-4865-a42f-1c3d7c8520a2",
   "metadata": {},
   "source": [
    "Sort a list of tuples having fruit names and their quantity. [(\"mango\",99),(\"orange\",80), (\"grapes\", 1000)-"
   ]
  },
  {
   "cell_type": "code",
   "execution_count": 7,
   "id": "4c10db37-d333-4bf7-829d-dbd6c5f8a5a8",
   "metadata": {},
   "outputs": [
    {
     "name": "stdout",
     "output_type": "stream",
     "text": [
      "[('orange', 80), ('mango', 99), ('grapes', 1000)]\n"
     ]
    }
   ],
   "source": [
    "fruits = [(\"mango\", 99), (\"orange\", 80), (\"grapes\", 1000)]\n",
    "sorted_fruits = sorted(fruits, key=lambda fruit: fruit[1])\n",
    "print(sorted_fruits) \n"
   ]
  },
  {
   "cell_type": "code",
   "execution_count": null,
   "id": "65c43d0e-9487-495f-8cfb-e36a246f3662",
   "metadata": {},
   "outputs": [],
   "source": [
    "fruits = [(\"mango\", 99), (\"orange\", 80), (\"grapes\", 1000)]\n",
    "sorted_fruits = [fruit for _, fruit in sorted(fruits, key=lambda fruit: fruit[1])]\n",
    "print(sorted_fruits) \n"
   ]
  },
  {
   "cell_type": "raw",
   "id": "1ba97fc3-40e0-4961-888c-ab268633c129",
   "metadata": {},
   "source": [
    "Find the squares of numbers from 1 to 10"
   ]
  },
  {
   "cell_type": "code",
   "execution_count": null,
   "id": "86121406-4f28-4437-8a29-12acf3464828",
   "metadata": {},
   "outputs": [],
   "source": [
    "squares = [num ** 2 for num in range(1, 11)]\n",
    "print(squares)"
   ]
  },
  {
   "cell_type": "raw",
   "id": "dd32bc75-df70-41f8-a001-0620ed55663b",
   "metadata": {},
   "source": [
    "Find the cube root of numbers from 1 to 10"
   ]
  },
  {
   "cell_type": "code",
   "execution_count": null,
   "id": "03a786f0-3c01-41c9-8ee4-b28cf5a6d639",
   "metadata": {},
   "outputs": [],
   "source": [
    "from math import pow\n",
    "cube_roots = [pow(num, 1/3) for num in range(1, 11)]\n",
    "print(cube_roots)"
   ]
  },
  {
   "cell_type": "raw",
   "id": "14c941ba-5285-4925-93de-2a1788ab6d1a",
   "metadata": {},
   "source": [
    "Check if a given number is even"
   ]
  },
  {
   "cell_type": "code",
   "execution_count": null,
   "id": "12791301-7fd7-4d5e-b699-10fc87b86b8b",
   "metadata": {},
   "outputs": [],
   "source": [
    "isEven = lambda num: num % 2 == 0\n",
    "print(isEven(4)) \n",
    "print(isEven(5)) \n"
   ]
  },
  {
   "cell_type": "raw",
   "id": "d0240f9c-05a0-4e93-85bb-c420598b879b",
   "metadata": {},
   "source": [
    "Filter odd numbers from the given list.\n",
    "[1,2,3,4,5,6,7,8,9,10]-"
   ]
  },
  {
   "cell_type": "code",
   "execution_count": null,
   "id": "1d0146dc-8959-44b4-a5bf-e941140c9a66",
   "metadata": {},
   "outputs": [],
   "source": [
    "numbers = [1, 2, 3, 4, 5, 6, 7, 8, 9, 10]\n",
    "even_numbers = [num for num in numbers if num % 2 == 0]\n",
    "print(even_numbers) "
   ]
  },
  {
   "cell_type": "raw",
   "id": "1594b06a-fd12-4118-8688-a373443c4d0c",
   "metadata": {},
   "source": [
    "Sort a list of integers into positive and negative integers lists.\n",
    "[1,2,3,4,5,6,-1,-2,-3,-4,-5,0]"
   ]
  },
  {
   "cell_type": "code",
   "execution_count": null,
   "id": "c18c0ba5-b4cb-4260-80be-8df44e007b72",
   "metadata": {},
   "outputs": [],
   "source": [
    "numbers = [1,2,3,4,5,6,-1,-2,-3,-4,-5,0]\n",
    "po_list=[x for x in numbers if x>=0]\n",
    "nef_list=[x for x in numbers if x<0]\n",
    "print(po_list)\n",
    "print(neg_list)\n"
   ]
  },
  {
   "cell_type": "code",
   "execution_count": null,
   "id": "21ac10b6-737c-4e16-a864-12e350e82ebd",
   "metadata": {},
   "outputs": [],
   "source": []
  }
 ],
 "metadata": {
  "kernelspec": {
   "display_name": "Python 3 (ipykernel)",
   "language": "python",
   "name": "python3"
  },
  "language_info": {
   "codemirror_mode": {
    "name": "ipython",
    "version": 3
   },
   "file_extension": ".py",
   "mimetype": "text/x-python",
   "name": "python",
   "nbconvert_exporter": "python",
   "pygments_lexer": "ipython3",
   "version": "3.10.8"
  }
 },
 "nbformat": 4,
 "nbformat_minor": 5
}
